{
 "cells": [
  {
   "cell_type": "markdown",
   "id": "4aa68bc7",
   "metadata": {},
   "source": [
    "# COVID-19 Global Data Tracker\n",
    "This notebook analyzes and reports global COVID-19 trends, including cases, deaths, recoveries, and vaccinations."
   ]
  },
  {
   "cell_type": "markdown",
   "id": "49fc8174",
   "metadata": {},
   "source": [
    "## Data Collection\n",
    "Download the 'owid-covid-data.csv' dataset from [Our World in Data](https://ourworldindata.org/covid-cases) and save it in the working folder."
   ]
  },
  {
   "cell_type": "code",
   "execution_count": null,
   "id": "573821b9",
   "metadata": {},
   "outputs": [],
   "source": [
    "# Download the dataset\n",
    "import os\n",
    "import urllib.request\n",
    "\n",
    "dataset_url = \"https://covid.ourworldindata.org/data/owid-covid-data.csv\"\n",
    "dataset_path = \"owid-covid-data.csv\"\n",
    "\n",
    "if not os.path.exists(dataset_path):\n",
    "    urllib.request.urlretrieve(dataset_url, dataset_path)\n",
    "    print(f\"Dataset downloaded and saved as {dataset_path}\")\n",
    "else:\n",
    "    print(f\"Dataset already exists at {dataset_path}\")"
   ]
  },
  {
   "cell_type": "markdown",
   "id": "82cb7496",
   "metadata": {},
   "source": [
    "## Data Loading & Exploration\n",
    "Use pandas to load the dataset, inspect its structure with `df.columns` and `df.head()`, and identify missing values with `df.isnull().sum()`."
   ]
  },
  {
   "cell_type": "code",
   "execution_count": null,
   "id": "704618ed",
   "metadata": {},
   "outputs": [],
   "source": [
    "import pandas as pd\n",
    "\n",
    "# Load the dataset\n",
    "df = pd.read_csv(dataset_path)\n",
    "\n",
    "# Inspect the structure of the dataset\n",
    "print(\"Columns in the dataset:\")\n",
    "print(df.columns)\n",
    "\n",
    "print(\"\\nFirst 5 rows of the dataset:\")\n",
    "print(df.head())\n",
    "\n",
    "# Identify missing values\n",
    "print(\"\\nMissing values in each column:\")\n",
    "print(df.isnull().sum())"
   ]
  },
  {
   "cell_type": "markdown",
   "id": "fc47d4a2",
   "metadata": {},
   "source": [
    "## Data Cleaning\n",
    "Filter countries of interest, drop rows with missing critical values, convert the date column to datetime, and handle missing numeric values using `fillna()` or `interpolate()`."
   ]
  },
  {
   "cell_type": "code",
   "execution_count": null,
   "id": "f956d205",
   "metadata": {},
   "outputs": [],
   "source": [
    "# Filter for specific countries (e.g., USA, India, Brazil)\n",
    "countries_of_interest = [\"United States\", \"India\", \"Brazil\"]\n",
    "df_filtered = df[df[\"location\"].isin(countries_of_interest)]\n",
    "\n",
    "# Drop rows with missing critical values\n",
    "df_filtered = df_filtered.dropna(subset=[\"total_cases\", \"total_deaths\", \"date\"])\n",
    "\n",
    "# Convert the date column to datetime\n",
    "df_filtered[\"date\"] = pd.to_datetime(df_filtered[\"date\"])\n",
    "\n",
    "# Handle missing numeric values\n",
    "df_filtered = df_filtered.fillna(method=\"ffill\")\n",
    "\n",
    "print(\"Data cleaning completed.\")"
   ]
  },
  {
   "cell_type": "markdown",
   "id": "f03d0c9f",
   "metadata": {},
   "source": [
    "## Exploratory Data Analysis (EDA)\n",
    "Generate descriptive statistics and visualize trends, such as total cases and deaths over time, daily new cases, and death rates. Use matplotlib and seaborn for line and bar charts."
   ]
  },
  {
   "cell_type": "code",
   "execution_count": null,
   "id": "5bdea75c",
   "metadata": {},
   "outputs": [],
   "source": [
    "import matplotlib.pyplot as plt\n",
    "import seaborn as sns\n",
    "\n",
    "# Plot total cases over time for each country\n",
    "plt.figure(figsize=(12, 6))\n",
    "sns.lineplot(data=df_filtered, x=\"date\", y=\"total_cases\", hue=\"location\")\n",
    "plt.title(\"Total COVID-19 Cases Over Time\")\n",
    "plt.xlabel(\"Date\")\n",
    "plt.ylabel(\"Total Cases\")\n",
    "plt.legend(title=\"Country\")\n",
    "plt.show()\n",
    "\n",
    "# Plot daily new cases\n",
    "df_filtered[\"new_cases\"] = df_filtered[\"total_cases\"].diff()\n",
    "plt.figure(figsize=(12, 6))\n",
    "sns.barplot(data=df_filtered, x=\"date\", y=\"new_cases\", hue=\"location\")\n",
    "plt.title(\"Daily New COVID-19 Cases\")\n",
    "plt.xlabel(\"Date\")\n",
    "plt.ylabel(\"New Cases\")\n",
    "plt.legend(title=\"Country\")\n",
    "plt.show()"
   ]
  },
  {
   "cell_type": "markdown",
   "id": "0d76257a",
   "metadata": {},
   "source": [
    "## Visualizing Vaccination Progress\n",
    "Analyze vaccination rollouts by plotting cumulative vaccinations over time and comparing the percentage of vaccinated populations using line and pie charts."
   ]
  },
  {
   "cell_type": "code",
   "execution_count": null,
   "id": "f16faa09",
   "metadata": {},
   "outputs": [],
   "source": [
    "# Plot cumulative vaccinations over time\n",
    "plt.figure(figsize=(12, 6))\n",
    "sns.lineplot(data=df_filtered, x=\"date\", y=\"total_vaccinations\", hue=\"location\")\n",
    "plt.title(\"Cumulative COVID-19 Vaccinations Over Time\")\n",
    "plt.xlabel(\"Date\")\n",
    "plt.ylabel(\"Total Vaccinations\")\n",
    "plt.legend(title=\"Country\")\n",
    "plt.show()"
   ]
  },
  {
   "cell_type": "markdown",
   "id": "e13d987b",
   "metadata": {},
   "source": [
    "## Optional: Build a Choropleth Map\n",
    "Prepare a dataframe with `iso_code` and `total_cases` for the latest date, and use Plotly Express or geopandas to create a choropleth map showing case density or vaccination rates by country."
   ]
  },
  {
   "cell_type": "code",
   "execution_count": null,
   "id": "6ff226fe",
   "metadata": {},
   "outputs": [],
   "source": [
    "import plotly.express as px\n",
    "\n",
    "# Prepare data for the latest date\n",
    "latest_date = df_filtered[\"date\"].max()\n",
    "df_latest = df[df[\"date\"] == latest_date]\n",
    "\n",
    "# Create a choropleth map\n",
    "fig = px.choropleth(df_latest, locations=\"iso_code\", color=\"total_cases\",\n",
    "                    hover_name=\"location\", title=\"COVID-19 Case Density by Country\",\n",
    "                    color_continuous_scale=\"Reds\")\n",
    "fig.show()"
   ]
  },
  {
   "cell_type": "markdown",
   "id": "ac43281a",
   "metadata": {},
   "source": [
    "## Insights & Reporting\n",
    "Summarize findings with 3-5 key insights, highlight anomalies, and document the analysis with markdown cells in the notebook. Optionally, export the notebook to PDF or PowerPoint."
   ]
  },
  {
   "cell_type": "markdown",
   "id": "9019301c",
   "metadata": {},
   "source": [
    "### Key Insights\n",
    "1. The United States, India, and Brazil have experienced significant COVID-19 case surges at different points in time.\n",
    "2. Vaccination rollouts have varied widely across countries, with some achieving higher coverage earlier than others.\n",
    "3. Daily new cases show clear peaks and troughs, indicating waves of infections.\n",
    "4. The choropleth map highlights regions with high case densities, providing a global perspective on the pandemic's impact."
   ]
  }
 ],
 "metadata": {
  "kernelspec": {
   "display_name": "Python 3",
   "language": "python",
   "name": "python3"
  },
  "language_info": {
   "name": "python",
   "version": "3.12.3"
  }
 },
 "nbformat": 4,
 "nbformat_minor": 5
}
